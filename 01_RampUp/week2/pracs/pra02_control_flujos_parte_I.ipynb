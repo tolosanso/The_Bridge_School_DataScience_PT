{
  "nbformat": 4,
  "nbformat_minor": 0,
  "metadata": {
    "colab": {
      "name": "Lab02_control_flujos_parte_I",
      "provenance": [],
      "collapsed_sections": []
    },
    "kernelspec": {
      "name": "python3",
      "display_name": "Python 3"
    },
    "language_info": {
      "name": "python"
    }
  },
  "cells": [
    {
      "cell_type": "markdown",
      "metadata": {
        "id": "dBjeqD-8E3jy"
      },
      "source": [
        "# Condicionales IF...ELIF...ELSE\n",
        "\n",
        "nos permite realizar evaluaciones basada en respuestas TRUE o FALSE\n"
      ]
    },
    {
      "cell_type": "code",
      "metadata": {
        "id": "7nZIQcUfE8rG"
      },
      "source": [
        "if respuesta == 'SI' or respuesta == 'S' or respuesta == 'si':\n",
        "    print(\"Continuar...\")\n",
        "    print(\"Completado!\")\n",
        "elif respuesta == 'not' or respuesta == 'N' or respuesta == 'no':\n",
        "    print(\"Salida!\")\n",
        "else:\n",
        "    print(\"Intentalo nuevamente....\")"
      ],
      "execution_count": null,
      "outputs": []
    },
    {
      "cell_type": "markdown",
      "metadata": {
        "id": "tkXkkar9FMGX"
      },
      "source": [
        "# Vamos con el laboratorio 2\n",
        "\n",
        "Escribir un programa que convierta la temperatura de Fahrenheit a Celsius\n",
        "\n",
        "En este código se muestra la fórmula matemática para convertir una temperatura medida en grados Fahrenheit a una temperatura medida en grados Celsius:\n",
        "\n",
        "celsius = (fahrenheit - 32) * 5/9\n",
        "\n",
        "Use esta fórmula para compilar un programa que **solicite a los usuarios** una temperatura en grados Fahrenheit, realice la conversión a Celsius y, después, muestre la temperatura en grados Celsius.\n",
        "\n",
        "Si el usuario escribe el valor 55, el programa debe generar este resultado:\n",
        "\n",
        "*OUTPUT What is the temperature in fahrenheit? 55 Temperature in celsius is 12 *\n",
        "\n",
        "Pero si el usuario escribe un valor no válido, el programa debe indicarle que hay un problema y, después, cerrar el programa. En este caso, si el usuario escribe el valor Bob, el programa debe generar este resultado:\n",
        "\n",
        "OUTPUT What is the temperature in fahrenheit? bob Input is not a number.\n",
        "\n",
        "Nota\n",
        "\n",
        "Para comprobar el trabajo, use un conversor de temperatura en línea y confirme que el resultado del programa coincide con el del conversor.\n",
        "\n",
        "Tanto si tiene dificultades y necesita echar un vistazo a la solución como si finaliza el ejercicio correctamente, continúe para ver una solución a este desafío."
      ]
    },
    {
      "cell_type": "code",
      "metadata": {
        "colab": {
          "base_uri": "https://localhost:8080/"
        },
        "id": "jDE1hTKUEuAu",
        "outputId": "e5feaf44-94c3-42b4-df27-07bcc8addcd6"
      },
      "source": [
        "a = 56\n",
        "type(a)"
      ],
      "execution_count": 1,
      "outputs": [
        {
          "output_type": "execute_result",
          "data": {
            "text/plain": [
              "int"
            ]
          },
          "metadata": {
            "tags": []
          },
          "execution_count": 1
        }
      ]
    },
    {
      "cell_type": "code",
      "metadata": {
        "colab": {
          "base_uri": "https://localhost:8080/"
        },
        "id": "jKJlfrFuFijZ",
        "outputId": "3fa0b648-8daf-4a9c-ac7f-a6c9da6899ba"
      },
      "source": [
        "fahrenheit = input(\"Cuál es la temperatura FAH de: \")"
      ],
      "execution_count": 2,
      "outputs": [
        {
          "output_type": "stream",
          "text": [
            "Cuál es la temperatura FAH de: 56\n"
          ],
          "name": "stdout"
        }
      ]
    },
    {
      "cell_type": "markdown",
      "metadata": {
        "id": "yIgosPBfFue7"
      },
      "source": [
        "### GENERAR UN PSEUDOCÓDIGO\n",
        "```\n",
        "fah = introducir un valor numérico\n",
        "evaluamos este valor numèrico, y \n",
        "SI es valor NO ES numérico, \n",
        "ELSE print (Este valor no es numèrico)\n",
        "o reintenta\n",
        "\n",
        "SI el valor ES numérico\n",
        "celsius = int(fah - 32) * 5/9\n",
        "print(La temperatura es CELSIUS)\n",
        "\n",
        "```"
      ]
    },
    {
      "cell_type": "code",
      "metadata": {
        "colab": {
          "base_uri": "https://localhost:8080/"
        },
        "id": "qtvrayjsFvMY",
        "outputId": "2a78001d-b41d-403a-9278-b3e6903eaa40"
      },
      "source": [
        "type(fahrenheit) # la evaluación de un valor almacenado a través de un input, lo transforma en STRING (cadena de texto)"
      ],
      "execution_count": 3,
      "outputs": [
        {
          "output_type": "execute_result",
          "data": {
            "text/plain": [
              "str"
            ]
          },
          "metadata": {
            "tags": []
          },
          "execution_count": 3
        }
      ]
    },
    {
      "cell_type": "code",
      "metadata": {
        "id": "ZGOQ74ssF2gv"
      },
      "source": [
        "# celsius = (fahrenheit - 32) * 5/9"
      ],
      "execution_count": 5,
      "outputs": []
    },
    {
      "cell_type": "code",
      "metadata": {
        "id": "cq1xR3c0F-U3"
      },
      "source": [
        ""
      ],
      "execution_count": null,
      "outputs": []
    },
    {
      "cell_type": "code",
      "metadata": {
        "id": "6AFwrBYHFnE_"
      },
      "source": [
        ""
      ],
      "execution_count": null,
      "outputs": []
    }
  ]
}