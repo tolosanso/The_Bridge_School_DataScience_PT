{
  "nbformat": 4,
  "nbformat_minor": 0,
  "metadata": {
    "colab": {
      "name": "Lab01.ipynb",
      "provenance": []
    },
    "kernelspec": {
      "name": "python3",
      "display_name": "Python 3"
    },
    "language_info": {
      "name": "python"
    }
  },
  "cells": [
    {
      "cell_type": "markdown",
      "metadata": {
        "id": "6emPPi8Zvt30"
      },
      "source": [
        "# Python - intro 101\n",
        "\n",
        "## Lab 1 - Qué va a crear\n",
        "\n",
        "En este desafío, creará un contador de calorías que solicita al usuario lo siguiente:\n",
        "\n",
        "- La fecha actual (en cualquier formato)\n",
        "- Calorías ingeridas en el desayuno\n",
        "- Calorías ingeridas en la comida\n",
        "- Calorías ingeridas en la cena\n",
        "- Calorías ingeridas en tentempiés\n",
        "\n",
        "Después, el programa sumará todas las calorías y les dará formato de mensaje."
      ]
    },
    {
      "cell_type": "code",
      "metadata": {
        "colab": {
          "base_uri": "https://localhost:8080/"
        },
        "id": "mID9DJRxvvU5",
        "outputId": "605200fe-2f8e-4d49-f972-2d607fce4acc"
      },
      "source": [
        "# Creamos las variables del contador\n",
        "print(\"¿Què día es hoy?\")"
      ],
      "execution_count": 1,
      "outputs": [
        {
          "output_type": "stream",
          "text": [
            "¿Què día es hoy?\n"
          ],
          "name": "stdout"
        }
      ]
    },
    {
      "cell_type": "code",
      "metadata": {
        "colab": {
          "base_uri": "https://localhost:8080/"
        },
        "id": "GAHuwqUcwEEB",
        "outputId": "a8dd35c4-ca24-4db4-e355-f110f9a9a965"
      },
      "source": [
        "# Para la fecha creamos una variable del tipo input()\n",
        "date = input()"
      ],
      "execution_count": 2,
      "outputs": [
        {
          "output_type": "stream",
          "text": [
            "17 Mayo 2021\n"
          ],
          "name": "stdout"
        }
      ]
    },
    {
      "cell_type": "code",
      "metadata": {
        "colab": {
          "base_uri": "https://localhost:8080/",
          "height": 36
        },
        "id": "_hfmKA2iu1R9",
        "outputId": "c7b311a4-c931-4479-9d7f-e37b4d6496b8"
      },
      "source": [
        "date"
      ],
      "execution_count": 3,
      "outputs": [
        {
          "output_type": "execute_result",
          "data": {
            "application/vnd.google.colaboratory.intrinsic+json": {
              "type": "string"
            },
            "text/plain": [
              "'17 Mayo 2021'"
            ]
          },
          "metadata": {
            "tags": []
          },
          "execution_count": 3
        }
      ]
    },
    {
      "cell_type": "code",
      "metadata": {
        "colab": {
          "base_uri": "https://localhost:8080/"
        },
        "id": "zvc8A-XlwRxC",
        "outputId": "8380d820-94b6-4a1a-8529-6095d616b043"
      },
      "source": [
        "print(\"Calorias desayuno\")"
      ],
      "execution_count": 4,
      "outputs": [
        {
          "output_type": "stream",
          "text": [
            "Calorias desayuno\n"
          ],
          "name": "stdout"
        }
      ]
    },
    {
      "cell_type": "code",
      "metadata": {
        "colab": {
          "base_uri": "https://localhost:8080/"
        },
        "id": "XG9qlmvywdDi",
        "outputId": "1edf60f1-973f-4f79-f288-8531ddfce0d6"
      },
      "source": [
        "breakfast = int(input())"
      ],
      "execution_count": 6,
      "outputs": [
        {
          "output_type": "stream",
          "text": [
            "560\n"
          ],
          "name": "stdout"
        }
      ]
    },
    {
      "cell_type": "code",
      "metadata": {
        "colab": {
          "base_uri": "https://localhost:8080/"
        },
        "id": "XuhvBuDwwkBC",
        "outputId": "ec20aad4-7158-4588-a417-6a6adf9ece3e"
      },
      "source": [
        "breakfast"
      ],
      "execution_count": 7,
      "outputs": [
        {
          "output_type": "execute_result",
          "data": {
            "text/plain": [
              "560"
            ]
          },
          "metadata": {
            "tags": []
          },
          "execution_count": 7
        }
      ]
    },
    {
      "cell_type": "code",
      "metadata": {
        "id": "6N8Zj1NPwipJ"
      },
      "source": [
        "# Tiene que recoger los demás datos y sumarlos\n",
        "# AQUI VUESTRO CÓDIGO"
      ],
      "execution_count": 9,
      "outputs": []
    },
    {
      "cell_type": "code",
      "metadata": {
        "id": "Crw3e9Edw06d"
      },
      "source": [
        "# Sumar \n",
        "#totalCal = # sumamos las variables anteriores"
      ],
      "execution_count": 11,
      "outputs": []
    },
    {
      "cell_type": "code",
      "metadata": {
        "id": "vkhH1wwLw90S"
      },
      "source": [
        "# OUTPUT\n",
        "print(\"El total de las calorías del día : \")"
      ],
      "execution_count": null,
      "outputs": []
    },
    {
      "cell_type": "code",
      "metadata": {
        "id": "DQCB4siBw7bm"
      },
      "source": [
        ""
      ],
      "execution_count": null,
      "outputs": []
    },
    {
      "cell_type": "code",
      "metadata": {
        "id": "cSIznB79wwQz"
      },
      "source": [
        ""
      ],
      "execution_count": null,
      "outputs": []
    },
    {
      "cell_type": "code",
      "metadata": {
        "id": "dyVHq-CKwgX7"
      },
      "source": [
        ""
      ],
      "execution_count": null,
      "outputs": []
    }
  ]
}