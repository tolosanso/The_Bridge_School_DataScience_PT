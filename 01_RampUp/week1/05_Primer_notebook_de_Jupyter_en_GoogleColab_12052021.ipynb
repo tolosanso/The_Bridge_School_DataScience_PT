{
  "nbformat": 4,
  "nbformat_minor": 0,
  "metadata": {
    "colab": {
      "name": "w1d1 - Primer notebook de Jupyter en GoogleColab - 12052021",
      "provenance": [],
      "collapsed_sections": []
    },
    "kernelspec": {
      "name": "python3",
      "display_name": "Python 3"
    },
    "language_info": {
      "name": "python"
    }
  },
  "cells": [
    {
      "cell_type": "markdown",
      "metadata": {
        "id": "H-b7OAvi7QtP"
      },
      "source": [
        "# Encabezado tipo 1\n",
        "## Encabezado tipo 2\n",
        "\n",
        "Se llama **Markdown**\n",
        "\n",
        "1.   Elemento de lista\n",
        "2.   Elemento de lista\n",
        "\n"
      ]
    },
    {
      "cell_type": "markdown",
      "metadata": {
        "id": "vRJ5gaTr7x1I"
      },
      "source": [
        "En Jupyter para ejecutar una celda tecleamos:\n",
        "\n",
        "- CTRL + ENTER\n",
        "\n",
        "O si queremos añadir una nueva línea de código y a la vez ejecutar\n",
        "\n",
        "- ALT + ENTER"
      ]
    },
    {
      "cell_type": "code",
      "metadata": {
        "id": "PF5gAlQk6p7y"
      },
      "source": [
        "# Si quiero escribir un comentario en una celda utilizamos el fragmento #\n",
        "# Si son más líneas también\n",
        "suma = 20 + 10 # también podemos redactar un comentario al lado del código"
      ],
      "execution_count": 5,
      "outputs": []
    },
    {
      "cell_type": "code",
      "metadata": {
        "colab": {
          "base_uri": "https://localhost:8080/"
        },
        "id": "G_ZuzkIn8REL",
        "outputId": "b3c2e9c5-4896-4b87-b916-a62da9000357"
      },
      "source": [
        "print(suma) # imprimimos el valor resultante de la variable anterior"
      ],
      "execution_count": 8,
      "outputs": [
        {
          "output_type": "stream",
          "text": [
            "30\n"
          ],
          "name": "stdout"
        }
      ]
    },
    {
      "cell_type": "code",
      "metadata": {
        "colab": {
          "base_uri": "https://localhost:8080/"
        },
        "id": "yWbP54oU8a5Z",
        "outputId": "574868b1-851f-44da-f652-7be96405400e"
      },
      "source": [
        "suma"
      ],
      "execution_count": 10,
      "outputs": [
        {
          "output_type": "execute_result",
          "data": {
            "text/plain": [
              "30"
            ]
          },
          "metadata": {
            "tags": []
          },
          "execution_count": 10
        }
      ]
    },
    {
      "cell_type": "code",
      "metadata": {
        "colab": {
          "base_uri": "https://localhost:8080/",
          "height": 173
        },
        "id": "3lJ5r4TC8lmI",
        "outputId": "54bf08ba-f41f-44d1-ac65-476d424a4628"
      },
      "source": [
        "print(\"El resultado de esta operación es: \" + suma)"
      ],
      "execution_count": 12,
      "outputs": [
        {
          "output_type": "error",
          "ename": "TypeError",
          "evalue": "ignored",
          "traceback": [
            "\u001b[0;31m---------------------------------------------------------------------------\u001b[0m",
            "\u001b[0;31mTypeError\u001b[0m                                 Traceback (most recent call last)",
            "\u001b[0;32m<ipython-input-12-58c739808e22>\u001b[0m in \u001b[0;36m<module>\u001b[0;34m()\u001b[0m\n\u001b[0;32m----> 1\u001b[0;31m \u001b[0mprint\u001b[0m\u001b[0;34m(\u001b[0m\u001b[0;34m\"El resultado de esta operación es: \"\u001b[0m \u001b[0;34m+\u001b[0m \u001b[0msuma\u001b[0m\u001b[0;34m)\u001b[0m\u001b[0;34m\u001b[0m\u001b[0;34m\u001b[0m\u001b[0m\n\u001b[0m",
            "\u001b[0;31mTypeError\u001b[0m: can only concatenate str (not \"int\") to str"
          ]
        }
      ]
    },
    {
      "cell_type": "markdown",
      "metadata": {
        "id": "ie4QAJjX9SkW"
      },
      "source": [
        "Veamos que nos devolverá un error porque estamos intentando imprimir una cadena de texto y un valor numérico.\n",
        "La solución sería de transformar nuestro valor numérico en STRING"
      ]
    },
    {
      "cell_type": "code",
      "metadata": {
        "colab": {
          "base_uri": "https://localhost:8080/"
        },
        "id": "bEvsL80s8YDN",
        "outputId": "e512f050-05d5-4aa4-efcd-6b580c7d62b7"
      },
      "source": [
        "# Volvemos a repetir la operación anterior convertiendo la variable numérica en string\n",
        "print(\"El resultado de esta operación es: \" + str(suma))"
      ],
      "execution_count": 15,
      "outputs": [
        {
          "output_type": "stream",
          "text": [
            "El resultado de esta operación es: 30\n"
          ],
          "name": "stdout"
        }
      ]
    },
    {
      "cell_type": "code",
      "metadata": {
        "id": "BJkaw6UE8YZb"
      },
      "source": [
        "sum"
      ],
      "execution_count": null,
      "outputs": []
    },
    {
      "cell_type": "code",
      "metadata": {
        "id": "UsswaMi_7pAn"
      },
      "source": [
        ""
      ],
      "execution_count": 3,
      "outputs": []
    }
  ]
}